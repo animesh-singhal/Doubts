{
 "cells": [
  {
   "cell_type": "code",
   "execution_count": 4,
   "metadata": {},
   "outputs": [
    {
     "ename": "SyntaxError",
     "evalue": "invalid syntax (<ipython-input-4-da7efd151135>, line 18)",
     "output_type": "error",
     "traceback": [
      "\u001b[0;36m  File \u001b[0;32m\"<ipython-input-4-da7efd151135>\"\u001b[0;36m, line \u001b[0;32m18\u001b[0m\n\u001b[0;31m    for i in range(readings):\u001b[0m\n\u001b[0m      ^\u001b[0m\n\u001b[0;31mSyntaxError\u001b[0m\u001b[0;31m:\u001b[0m invalid syntax\n"
     ]
    }
   ],
   "source": [
    "epochs = 1\n",
    "#batch_size = 2000\n",
    "learning_rate = 0.01\n",
    "\n",
    "# Gradient Descent\n",
    "optimizer = tf.train.GradientDescentOptimizer(learning_rate).minimize(loss)    \n",
    "\n",
    "avg_valid_reads = []\n",
    "batch_num = [50, 300, 500, 1000, 2000]\n",
    "counter=0\n",
    "\n",
    "for batch_size in batch_num:\n",
    "    valid_readings=[]\n",
    "    num_readings=2\n",
    "    counter+=1\n",
    "    readings = tqdm(range(num_readings), desc='Value {:>2}/{}'.format(counter, len(batch_num), unit='readings')\n",
    "    \n",
    "    for i in range(readings):\n",
    "\n",
    "        # The accuracy measured against the validation set\n",
    "        validation_accuracy = 0.0\n",
    "\n",
    "        with tf.Session() as session:\n",
    "            session.run(init)\n",
    "            batch_count = int(math.ceil(len(train_features)/batch_size))\n",
    "\n",
    "            for epoch_i in range(epochs):\n",
    "\n",
    "                # Progress bar\n",
    "                #batches_pbar = tqdm(range(batch_count), desc='Epoch {:>2}/{}'.format(epoch_i+1, epochs), unit='batches')\n",
    "\n",
    "                # The training cycle\n",
    "                for batch_i in range(batch_count):\n",
    "                    # Get a batch of training features and labels\n",
    "                    batch_start = batch_i*batch_size\n",
    "                    batch_features = train_features[batch_start:batch_start + batch_size]\n",
    "                    batch_labels = train_labels[batch_start:batch_start + batch_size]\n",
    "\n",
    "                    # Run optimizer and get loss\n",
    "                    _, l = session.run(\n",
    "                        [optimizer, loss],\n",
    "                        feed_dict={features: batch_features, labels: batch_labels})\n",
    "\n",
    "                # Check accuracy against Validation data\n",
    "                validation_accuracy = session.run(accuracy, feed_dict=valid_feed_dict)\n",
    "\n",
    "        valid_readings.append(validation_accuracy)    \n",
    "    mean = sum(valid_readings) / len(valid_readings)\n",
    "    avg_valid_reads.append(mean)\n",
    "\n",
    "\n",
    "\n",
    "plt.plot(batch_num,avg_valid_reads,'o-')"
   ]
  }
 ],
 "metadata": {
  "anaconda-cloud": {},
  "kernelspec": {
   "display_name": "Python 3",
   "language": "python",
   "name": "python3"
  },
  "language_info": {
   "codemirror_mode": {
    "name": "ipython",
    "version": 3
   },
   "file_extension": ".py",
   "mimetype": "text/x-python",
   "name": "python",
   "nbconvert_exporter": "python",
   "pygments_lexer": "ipython3",
   "version": "3.6.3"
  }
 },
 "nbformat": 4,
 "nbformat_minor": 1
}
